{
 "cells": [
  {
   "cell_type": "markdown",
   "id": "d388de42",
   "metadata": {},
   "source": [
    "# 🌟 Character String and their Operations:-"
   ]
  },
  {
   "cell_type": "markdown",
   "id": "a2c71b35",
   "metadata": {},
   "source": [
    "## 😎 Joining strings:\n"
   ]
  },
  {
   "cell_type": "markdown",
   "id": "27814627",
   "metadata": {},
   "source": [
    "Joining strings means combining two or more strings into one."
   ]
  },
  {
   "cell_type": "code",
   "execution_count": 3,
   "id": "a75b242c",
   "metadata": {},
   "outputs": [
    {
     "name": "stdout",
     "output_type": "stream",
     "text": [
      "sajjad ahmad awan\n"
     ]
    }
   ],
   "source": [
    "first_name=\"sajjad\"\n",
    "mid_name=\"ahmad\"\n",
    "last_name=\"awan\"\n",
    "full_name=first_name+\" \"+ mid_name+\" \"+last_name\n",
    "print(full_name)"
   ]
  },
  {
   "cell_type": "markdown",
   "id": "08536eeb",
   "metadata": {},
   "source": [
    "## 😎 Repeating a string:"
   ]
  },
  {
   "cell_type": "markdown",
   "id": "b4baabe3",
   "metadata": {},
   "source": [
    "Repeating a string means multiplying a string to repeat it multiple times."
   ]
  },
  {
   "cell_type": "code",
   "execution_count": 4,
   "id": "abfdf86b",
   "metadata": {},
   "outputs": [
    {
     "name": "stdout",
     "output_type": "stream",
     "text": [
      "HaHaHaHaHa\n",
      "HeHeHeHeHeHeHeHeHeHe\n"
     ]
    }
   ],
   "source": [
    "laugh= \"Ha\"\n",
    "laughing=\"He\"\n",
    "print(laugh*5)\n",
    "print(laughing*10)"
   ]
  },
  {
   "cell_type": "markdown",
   "id": "ea03c5d8",
   "metadata": {},
   "source": [
    "## 😎 String Length:\n"
   ]
  },
  {
   "cell_type": "markdown",
   "id": "2f84801a",
   "metadata": {},
   "source": [
    "String length means counting the number of characters in a string (including spaces and punctuation)."
   ]
  },
  {
   "cell_type": "code",
   "execution_count": 6,
   "id": "db35a182",
   "metadata": {},
   "outputs": [
    {
     "name": "stdout",
     "output_type": "stream",
     "text": [
      "6\n",
      "39\n"
     ]
    }
   ],
   "source": [
    "word=\"Hello!\"\n",
    "word2=\"A quick brown fox jumps over a lazy dog\" # space is also includes in lenght\n",
    "print(len(word))\n",
    "print(len(word2))"
   ]
  },
  {
   "cell_type": "markdown",
   "id": "d7fb2a64",
   "metadata": {},
   "source": [
    "## 😎 Pick a Letter by its Spot:"
   ]
  },
  {
   "cell_type": "markdown",
   "id": "1fcb7761",
   "metadata": {},
   "source": [
    "Means get a letter by its number in the word"
   ]
  },
  {
   "cell_type": "code",
   "execution_count": 11,
   "id": "521fe54a",
   "metadata": {},
   "outputs": [
    {
     "name": "stdout",
     "output_type": "stream",
     "text": [
      "e\n",
      "H\n"
     ]
    }
   ],
   "source": [
    "greeting=\"Hello\"\n",
    "print(greeting [1])\n",
    "print(greeting [-5])"
   ]
  },
  {
   "cell_type": "markdown",
   "id": "cccb8518",
   "metadata": {},
   "source": [
    "## 😎 Slicing:"
   ]
  },
  {
   "cell_type": "markdown",
   "id": "62ee3b29",
   "metadata": {},
   "source": [
    "grab a part of a string (not just one letter) by giving a start and end index"
   ]
  },
  {
   "cell_type": "code",
   "execution_count": 20,
   "id": "494113aa",
   "metadata": {},
   "outputs": [
    {
     "name": "stdout",
     "output_type": "stream",
     "text": [
      "Elepha\n"
     ]
    }
   ],
   "source": [
    "animal=\"Elephant\"\n",
    "print(animal [0:6])"
   ]
  },
  {
   "cell_type": "markdown",
   "id": "19aba015",
   "metadata": {},
   "source": [
    "## 😎 Change Letter Case:"
   ]
  },
  {
   "cell_type": "markdown",
   "id": "d7c16ef8",
   "metadata": {},
   "source": [
    "In Python, you can change the case of letters using simple string methods."
   ]
  },
  {
   "cell_type": "code",
   "execution_count": 25,
   "id": "9b6f122c",
   "metadata": {},
   "outputs": [
    {
     "name": "stdout",
     "output_type": "stream",
     "text": [
      "ARHAM MIR AWAN\n",
      "arham mir awan\n",
      "Arham mir awan\n",
      "aRHAM mIR aWAN\n"
     ]
    }
   ],
   "source": [
    "name=\"Arham Mir Awan\"\n",
    "print(name.upper())\n",
    "print(name.lower())\n",
    "print(name.capitalize())\n",
    "print(name.swapcase())"
   ]
  }
 ],
 "metadata": {
  "kernelspec": {
   "display_name": "base",
   "language": "python",
   "name": "python3"
  },
  "language_info": {
   "codemirror_mode": {
    "name": "ipython",
    "version": 3
   },
   "file_extension": ".py",
   "mimetype": "text/x-python",
   "name": "python",
   "nbconvert_exporter": "python",
   "pygments_lexer": "ipython3",
   "version": "3.12.9"
  }
 },
 "nbformat": 4,
 "nbformat_minor": 5
}
