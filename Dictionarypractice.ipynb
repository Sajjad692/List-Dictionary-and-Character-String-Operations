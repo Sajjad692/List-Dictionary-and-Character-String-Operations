{
 "cells": [
  {
   "cell_type": "markdown",
   "id": "ccecec88",
   "metadata": {},
   "source": [
    "## Dictionary:"
   ]
  },
  {
   "cell_type": "markdown",
   "id": "93807060",
   "metadata": {},
   "source": [
    "Dictionary is a collection of **Key value pairs**, each key is unique. And each key points to a specfic value. Curlry brackets {} are use to create dictionaries in python.\n"
   ]
  },
  {
   "cell_type": "code",
   "execution_count": null,
   "id": "82522dba",
   "metadata": {},
   "outputs": [
    {
     "name": "stdout",
     "output_type": "stream",
     "text": [
      "Student Info: {'name': 'wahab', 'age': '12', 'class': 'seven', 'roll no': 'doc4556'}\n",
      "Student Name: wahab\n",
      "Student Name: 12\n",
      "Student Name: seven\n",
      "Student Name: doc4556\n",
      "Updated Student Info: {'name': 'wahab', 'age': '12', 'class': 'seven', 'roll no': 'doc4556', 'hobby': 'football'}\n",
      "name:wahab\n",
      "age:12\n",
      "class:seven\n",
      "roll no:doc4556\n",
      "hobby:football\n"
     ]
    }
   ],
   "source": [
    "student={\n",
    "    \"name\":\"wahab\",\n",
    "    \"age\": \"12\",\n",
    "    \"class\":\"seven\",\n",
    "    \"roll no\":\"doc4556\"\n",
    "}\n",
    "print(\"Student Info:\",student) # for student complete info\n",
    "print(\"Student Name:\", student [\"name\"]) # for student name only\n",
    "print(\"Student Name:\", student [\"age\"])  # for student age only\n",
    "print(\"Student Name:\", student [\"class\"]) # for student class only\n",
    "print(\"Student Name:\", student [\"roll no\"]) # for student roll no only\n",
    "student [\"hobby\"]=\"football\"   # to add new key in dictionary\n",
    "print(\"Updated Student Info:\", student) # for updated info including new key\n",
    "for key, value in student.items():   # use loop function to display the dictionary vertically\n",
    "    print(f\"{key}:{value}\")"
   ]
  }
 ],
 "metadata": {
  "kernelspec": {
   "display_name": "base",
   "language": "python",
   "name": "python3"
  },
  "language_info": {
   "codemirror_mode": {
    "name": "ipython",
    "version": 3
   },
   "file_extension": ".py",
   "mimetype": "text/x-python",
   "name": "python",
   "nbconvert_exporter": "python",
   "pygments_lexer": "ipython3",
   "version": "3.12.9"
  }
 },
 "nbformat": 4,
 "nbformat_minor": 5
}
