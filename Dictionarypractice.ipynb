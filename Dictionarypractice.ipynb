{
 "cells": [
  {
   "cell_type": "markdown",
   "id": "ccecec88",
   "metadata": {},
   "source": [
    "## Dictionary:"
   ]
  },
  {
   "cell_type": "markdown",
   "id": "93807060",
   "metadata": {},
   "source": [
    "Dictionary is a collection of **Key value pairs**, each key is unique. And each key points to a specfic value. Curlry brackets {} are use to create dictionaries in python.\n"
   ]
  },
  {
   "cell_type": "code",
   "execution_count": 1,
   "id": "82522dba",
   "metadata": {},
   "outputs": [
    {
     "name": "stdout",
     "output_type": "stream",
     "text": [
      "Person Info: {'name': 'hamza', 'age': '34', 'city': 'lahore', 'profession': 'doctor'}\n"
     ]
    }
   ],
   "source": [
    "person={\n",
    "    \"name\":\"hamza\",\n",
    "    \"age\": \"34\",\n",
    "    \"city\":\"lahore\",\n",
    "    \"profession\":\"doctor\"\n",
    "}\n",
    "print(\"Person Info:\",person)"
   ]
  }
 ],
 "metadata": {
  "kernelspec": {
   "display_name": "base",
   "language": "python",
   "name": "python3"
  },
  "language_info": {
   "codemirror_mode": {
    "name": "ipython",
    "version": 3
   },
   "file_extension": ".py",
   "mimetype": "text/x-python",
   "name": "python",
   "nbconvert_exporter": "python",
   "pygments_lexer": "ipython3",
   "version": "3.12.9"
  }
 },
 "nbformat": 4,
 "nbformat_minor": 5
}
