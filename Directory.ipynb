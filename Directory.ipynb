{
 "cells": [
  {
   "cell_type": "code",
   "execution_count": 3,
   "id": "529ead0f",
   "metadata": {},
   "outputs": [
    {
     "name": "stdout",
     "output_type": "stream",
     "text": [
      "---Contact Informarion---\n",
      "Name:Sajjad\n",
      "Phone:03323387820\n",
      "Email:sajjad@gmail.com\n",
      "\n",
      "---Contact Informarion---\n",
      "Name:Hareem\n",
      "Phone:03333435363\n",
      "Email:hareem@gmail.com\n",
      "\n",
      "---Contact Informarion---\n",
      "Name:Arham Mir\n",
      "Phone:03210012390\n",
      "Email:Arham@hotmail.com\n",
      "\n",
      "---Contact Informarion---\n",
      "Name:Rahim Mir\n",
      "Phone:03451234567\n",
      "Email:Rahim@hotmail.com\n",
      "\n"
     ]
    }
   ],
   "source": [
    "directory={\n",
    "    \"Sajjad\":{\"Phone\":\"03323387820\",\n",
    "              \"Email\":\"sajjad@gmail.com\"},\n",
    "    \"Hareem\":{\"Phone\":\"03333435363\",\n",
    "              \"Email\":\"hareem@gmail.com\"},\n",
    "    \"Arham Mir\":{\"Phone\":\"03210012390\",\n",
    "                 \"Email\":\"Arham@hotmail.com\"},\n",
    "    \"Rahim Mir\":{\"Phone\":\"03451234567\",\n",
    "                 \"Email\":\"Rahim@hotmail.com\"}\n",
    "    }\n",
    "for name, info in directory.items():\n",
    "    print(\"---Contact Informarion---\")\n",
    "    print(f\"Name:{name}\")\n",
    "    print(f\"Phone:{info['Phone']}\")\n",
    "    print(f\"Email:{info['Email']}\")\n",
    "    print()\n"
   ]
  }
 ],
 "metadata": {
  "kernelspec": {
   "display_name": "base",
   "language": "python",
   "name": "python3"
  },
  "language_info": {
   "codemirror_mode": {
    "name": "ipython",
    "version": 3
   },
   "file_extension": ".py",
   "mimetype": "text/x-python",
   "name": "python",
   "nbconvert_exporter": "python",
   "pygments_lexer": "ipython3",
   "version": "3.12.9"
  }
 },
 "nbformat": 4,
 "nbformat_minor": 5
}
