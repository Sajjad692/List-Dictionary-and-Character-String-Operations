{
 "cells": [
  {
   "cell_type": "markdown",
   "id": "db10d6c4",
   "metadata": {},
   "source": [
    "## List:-"
   ]
  },
  {
   "cell_type": "markdown",
   "id": "17c36b05",
   "metadata": {},
   "source": [
    "A list is an order collection of items. Large brackets [] is use for the list and each list contant having quotes. When we want to add items in list collection we use .append(\"abc\") as syntex.\n"
   ]
  },
  {
   "cell_type": "code",
   "execution_count": 1,
   "id": "5b394823",
   "metadata": {},
   "outputs": [
    {
     "name": "stdout",
     "output_type": "stream",
     "text": [
      "Complete List ['apple', 'banana', 'grapes', 'gauva']\n",
      "Last Fruit: gauva\n",
      "Updated Fruits List: ['apple', 'banana', 'watermalon', 'grapes', 'gauva', 'Orange']\n",
      "apple\n",
      "banana\n",
      "watermalon\n",
      "grapes\n",
      "gauva\n",
      "Orange\n"
     ]
    }
   ],
   "source": [
    "fruits=[\"apple\" , \"banana\" , \"grapes\" , \"gauva\"]\n",
    "# Display all list items\n",
    "print(\"Complete List\",fruits)\n",
    "# Display a fruit at specific number\n",
    "print(\"Last Fruit:\",fruits[3])\n",
    "# Add new item in the list\n",
    "fruits.append(\"Orange\") # use .append to add a fruit at last position\n",
    "fruits.insert(2, \"watermalon\") # use .insert to add a fruit at specific position\n",
    "print(\"Updated Fruits List:\",fruits) # to execute updated fruit list\n",
    "for items in fruits:                 # use loop function to print list in vertical \n",
    "    print(items)"
   ]
  }
 ],
 "metadata": {
  "kernelspec": {
   "display_name": "base",
   "language": "python",
   "name": "python3"
  },
  "language_info": {
   "codemirror_mode": {
    "name": "ipython",
    "version": 3
   },
   "file_extension": ".py",
   "mimetype": "text/x-python",
   "name": "python",
   "nbconvert_exporter": "python",
   "pygments_lexer": "ipython3",
   "version": "3.12.9"
  }
 },
 "nbformat": 4,
 "nbformat_minor": 5
}
